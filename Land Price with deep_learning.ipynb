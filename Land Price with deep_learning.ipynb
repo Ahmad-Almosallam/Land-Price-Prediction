{
  "nbformat": 4,
  "nbformat_minor": 0,
  "metadata": {
    "colab": {
      "name": "Land Price with deep learning.ipynb",
      "provenance": [],
      "collapsed_sections": []
    },
    "kernelspec": {
      "name": "python3",
      "display_name": "Python 3"
    }
  },
  "cells": [
    {
      "cell_type": "markdown",
      "metadata": {
        "id": "USZf59sCb-IE"
      },
      "source": [
        "# Importing Libraries"
      ]
    },
    {
      "cell_type": "code",
      "metadata": {
        "id": "_YKwlI-S3gyQ"
      },
      "source": [
        "import pandas as pd\r\n",
        "import numpy as np"
      ],
      "execution_count": 1,
      "outputs": []
    },
    {
      "cell_type": "code",
      "metadata": {
        "colab": {
          "base_uri": "https://localhost:8080/"
        },
        "id": "i448VbY13i5r",
        "outputId": "664b3799-08c8-4fab-b189-513aac91d32d"
      },
      "source": [
        "df = pd.read_csv(\"land_riyadh.csv\")\r\n",
        "df.shape"
      ],
      "execution_count": 2,
      "outputs": [
        {
          "output_type": "execute_result",
          "data": {
            "text/plain": [
              "(7824, 8)"
            ]
          },
          "metadata": {
            "tags": []
          },
          "execution_count": 2
        }
      ]
    },
    {
      "cell_type": "markdown",
      "metadata": {
        "id": "t0cnXJmmcHK5"
      },
      "source": [
        "# Concatenating the two data"
      ]
    },
    {
      "cell_type": "code",
      "metadata": {
        "colab": {
          "base_uri": "https://localhost:8080/"
        },
        "id": "3xQA_lTl5cq_",
        "outputId": "f1cefb70-9b44-44e0-b0c3-616d5404432c"
      },
      "source": [
        "df2 = pd.read_csv(\"aqardata_2.csv\")\r\n",
        "df2 = df2.rename({'Pricepm':'pricepermeter'} ,axis=1)\r\n",
        "df_concat = pd.concat([df,df2])\r\n",
        "df_concat.info()"
      ],
      "execution_count": 3,
      "outputs": [
        {
          "output_type": "stream",
          "text": [
            "<class 'pandas.core.frame.DataFrame'>\n",
            "Int64Index: 10775 entries, 0 to 2950\n",
            "Data columns (total 8 columns):\n",
            " #   Column         Non-Null Count  Dtype \n",
            "---  ------         --------------  ----- \n",
            " 0   mainlocation   10775 non-null  object\n",
            " 1   sublocation    10100 non-null  object\n",
            " 2   neighborhood   10775 non-null  object\n",
            " 3   frontage       10775 non-null  object\n",
            " 4   purpose        10428 non-null  object\n",
            " 5   size           10775 non-null  int64 \n",
            " 6   streetwidth    10772 non-null  object\n",
            " 7   pricepermeter  10775 non-null  int64 \n",
            "dtypes: int64(2), object(6)\n",
            "memory usage: 757.6+ KB\n"
          ],
          "name": "stdout"
        }
      ]
    },
    {
      "cell_type": "markdown",
      "metadata": {
        "id": "xtBddunEcRkg"
      },
      "source": [
        "# Cleaning data"
      ]
    },
    {
      "cell_type": "code",
      "metadata": {
        "id": "989dY8_c6cSf"
      },
      "source": [
        "df_concat = df_concat.dropna()\r\n",
        "df_no_dup = df_concat\r\n",
        "numeric_columns = [ \"size\",\"streetwidth\" ,\"pricepermeter\"]\r\n",
        "nominal_columns = [\"mainlocation\" , \"sublocation\" , \"neighborhood\",\"frontage\",\"purpose\"]\r\n",
        "df_no_dup = df_no_dup.query(\"streetwidth != 'غير محدد'\")\r\n",
        "df_no_dup = df_no_dup.query(\"purpose != 'غير محدد'\")\r\n",
        "df_no_dup = df_no_dup.drop_duplicates(keep='first',ignore_index =True)"
      ],
      "execution_count": 10,
      "outputs": []
    },
    {
      "cell_type": "code",
      "metadata": {
        "colab": {
          "base_uri": "https://localhost:8080/"
        },
        "id": "Gf7-l1RS5-Ws",
        "outputId": "f58c3d87-92f8-4690-9a54-0637ac430320"
      },
      "source": [
        "df_no_dup['streetwidth'] = df_no_dup['streetwidth'].astype('int')\r\n",
        "df_no_dup.info()"
      ],
      "execution_count": 11,
      "outputs": [
        {
          "output_type": "stream",
          "text": [
            "<class 'pandas.core.frame.DataFrame'>\n",
            "RangeIndex: 5852 entries, 0 to 5851\n",
            "Data columns (total 8 columns):\n",
            " #   Column         Non-Null Count  Dtype \n",
            "---  ------         --------------  ----- \n",
            " 0   mainlocation   5852 non-null   object\n",
            " 1   sublocation    5852 non-null   object\n",
            " 2   neighborhood   5852 non-null   object\n",
            " 3   frontage       5852 non-null   object\n",
            " 4   purpose        5852 non-null   object\n",
            " 5   size           5852 non-null   int64 \n",
            " 6   streetwidth    5852 non-null   int64 \n",
            " 7   pricepermeter  5852 non-null   int64 \n",
            "dtypes: int64(3), object(5)\n",
            "memory usage: 365.9+ KB\n"
          ],
          "name": "stdout"
        }
      ]
    },
    {
      "cell_type": "code",
      "metadata": {
        "colab": {
          "base_uri": "https://localhost:8080/",
          "height": 80
        },
        "id": "MBUX8ELa_udU",
        "outputId": "f271ac22-4807-4f19-cd35-9155da88dfd0"
      },
      "source": [
        "df_no_dup = df_no_dup.reset_index(drop=True)\r\n",
        "df_no_dup.head(1)"
      ],
      "execution_count": 12,
      "outputs": [
        {
          "output_type": "execute_result",
          "data": {
            "text/html": [
              "<div>\n",
              "<style scoped>\n",
              "    .dataframe tbody tr th:only-of-type {\n",
              "        vertical-align: middle;\n",
              "    }\n",
              "\n",
              "    .dataframe tbody tr th {\n",
              "        vertical-align: top;\n",
              "    }\n",
              "\n",
              "    .dataframe thead th {\n",
              "        text-align: right;\n",
              "    }\n",
              "</style>\n",
              "<table border=\"1\" class=\"dataframe\">\n",
              "  <thead>\n",
              "    <tr style=\"text-align: right;\">\n",
              "      <th></th>\n",
              "      <th>mainlocation</th>\n",
              "      <th>sublocation</th>\n",
              "      <th>neighborhood</th>\n",
              "      <th>frontage</th>\n",
              "      <th>purpose</th>\n",
              "      <th>size</th>\n",
              "      <th>streetwidth</th>\n",
              "      <th>pricepermeter</th>\n",
              "    </tr>\n",
              "  </thead>\n",
              "  <tbody>\n",
              "    <tr>\n",
              "      <th>0</th>\n",
              "      <td>الرياض</td>\n",
              "      <td>غرب الرياض</td>\n",
              "      <td>حي عرقة</td>\n",
              "      <td>3 شوارع</td>\n",
              "      <td>تجاري</td>\n",
              "      <td>2220</td>\n",
              "      <td>20</td>\n",
              "      <td>3550</td>\n",
              "    </tr>\n",
              "  </tbody>\n",
              "</table>\n",
              "</div>"
            ],
            "text/plain": [
              "  mainlocation sublocation neighborhood  ...  size streetwidth  pricepermeter\n",
              "0       الرياض  غرب الرياض      حي عرقة  ...  2220          20           3550\n",
              "\n",
              "[1 rows x 8 columns]"
            ]
          },
          "metadata": {
            "tags": []
          },
          "execution_count": 12
        }
      ]
    },
    {
      "cell_type": "markdown",
      "metadata": {
        "id": "4az2ozkycXbq"
      },
      "source": [
        "# Preprocessing data"
      ]
    },
    {
      "cell_type": "code",
      "metadata": {
        "colab": {
          "base_uri": "https://localhost:8080/",
          "height": 163
        },
        "id": "3Bna03tk6VVQ",
        "outputId": "8ec34612-5a55-4c40-a723-61d67528b1b2"
      },
      "source": [
        "from sklearn.preprocessing import OneHotEncoder\r\n",
        "onehotEncoder = OneHotEncoder()\r\n",
        "onehotEncoder = onehotEncoder.fit(df_no_dup[nominal_columns])\r\n",
        "onehot_result = onehotEncoder.transform(df_no_dup[nominal_columns]).toarray()\r\n",
        "\r\n",
        "df_dummy = pd.get_dummies(df_no_dup[nominal_columns])\r\n",
        "df_onehot = pd.DataFrame(onehot_result ,columns=df_dummy.columns)\r\n",
        "df_onehot[numeric_columns] = df_no_dup[numeric_columns]\r\n",
        "df_onehot.head(1)"
      ],
      "execution_count": 13,
      "outputs": [
        {
          "output_type": "execute_result",
          "data": {
            "text/html": [
              "<div>\n",
              "<style scoped>\n",
              "    .dataframe tbody tr th:only-of-type {\n",
              "        vertical-align: middle;\n",
              "    }\n",
              "\n",
              "    .dataframe tbody tr th {\n",
              "        vertical-align: top;\n",
              "    }\n",
              "\n",
              "    .dataframe thead th {\n",
              "        text-align: right;\n",
              "    }\n",
              "</style>\n",
              "<table border=\"1\" class=\"dataframe\">\n",
              "  <thead>\n",
              "    <tr style=\"text-align: right;\">\n",
              "      <th></th>\n",
              "      <th>mainlocation_الرياض</th>\n",
              "      <th>mainlocation_جدة</th>\n",
              "      <th>sublocation_جنوب الرياض</th>\n",
              "      <th>sublocation_جنوب جدة</th>\n",
              "      <th>sublocation_شرق الرياض</th>\n",
              "      <th>sublocation_شمال الرياض</th>\n",
              "      <th>sublocation_شمال جدة</th>\n",
              "      <th>sublocation_غرب الرياض</th>\n",
              "      <th>sublocation_وسط الرياض</th>\n",
              "      <th>neighborhood_حي أحد</th>\n",
              "      <th>neighborhood_حي ابحر الجنوبية</th>\n",
              "      <th>neighborhood_حي ابحر الشمالية</th>\n",
              "      <th>neighborhood_حي اشبيلية</th>\n",
              "      <th>neighborhood_حي الازدهار</th>\n",
              "      <th>neighborhood_حي الاصالة</th>\n",
              "      <th>neighborhood_حي الامواج</th>\n",
              "      <th>neighborhood_حي الاندلس</th>\n",
              "      <th>neighborhood_حي البديعة</th>\n",
              "      <th>neighborhood_حي البساتين</th>\n",
              "      <th>neighborhood_حي البشائر</th>\n",
              "      <th>neighborhood_حي التعاون</th>\n",
              "      <th>neighborhood_حي الجزيرة</th>\n",
              "      <th>neighborhood_حي الجنادرية</th>\n",
              "      <th>neighborhood_حي الحائر</th>\n",
              "      <th>neighborhood_حي الحزم</th>\n",
              "      <th>neighborhood_حي الحمدانية</th>\n",
              "      <th>neighborhood_حي الحمراء</th>\n",
              "      <th>neighborhood_حي الخزامى</th>\n",
              "      <th>neighborhood_حي الخليج</th>\n",
              "      <th>neighborhood_حي الدار البيضاء</th>\n",
              "      <th>neighborhood_حي الدريهمية</th>\n",
              "      <th>neighborhood_حي الدفاع</th>\n",
              "      <th>neighborhood_حي الرائد</th>\n",
              "      <th>neighborhood_حي الربوة</th>\n",
              "      <th>neighborhood_حي الربيع</th>\n",
              "      <th>neighborhood_حي الرحمانية</th>\n",
              "      <th>neighborhood_حي الرفيعة</th>\n",
              "      <th>neighborhood_حي الرمال</th>\n",
              "      <th>neighborhood_حي الروابي</th>\n",
              "      <th>neighborhood_حي الروضة</th>\n",
              "      <th>...</th>\n",
              "      <th>neighborhood_حي بنبان</th>\n",
              "      <th>neighborhood_حي بني مالك</th>\n",
              "      <th>neighborhood_حي جرير</th>\n",
              "      <th>neighborhood_حي حطين</th>\n",
              "      <th>neighborhood_حي صلاح الدين</th>\n",
              "      <th>neighborhood_حي ضاحية نمار</th>\n",
              "      <th>neighborhood_حي طويق</th>\n",
              "      <th>neighborhood_حي طيبة</th>\n",
              "      <th>neighborhood_حي ظهرة البديعة</th>\n",
              "      <th>neighborhood_حي ظهرة لبن</th>\n",
              "      <th>neighborhood_حي ظهرة نمار</th>\n",
              "      <th>neighborhood_حي عرقة</th>\n",
              "      <th>neighborhood_حي عريض</th>\n",
              "      <th>neighborhood_حي عكاظ</th>\n",
              "      <th>neighborhood_حي عليشة</th>\n",
              "      <th>neighborhood_حي غرناطة</th>\n",
              "      <th>neighborhood_حي قرطبة</th>\n",
              "      <th>neighborhood_حي لبن</th>\n",
              "      <th>neighborhood_حي مركز الملك عبدالله للدراسات والبحوث</th>\n",
              "      <th>neighborhood_حي مريخ</th>\n",
              "      <th>neighborhood_حي مشرفة</th>\n",
              "      <th>neighborhood_حي منفوحة الجديدة</th>\n",
              "      <th>neighborhood_حي نمار</th>\n",
              "      <th>neighborhood_حي هيت</th>\n",
              "      <th>frontage_3 شوارع</th>\n",
              "      <th>frontage_4 شوارع</th>\n",
              "      <th>frontage_جنوب</th>\n",
              "      <th>frontage_جنوب شرقي</th>\n",
              "      <th>frontage_جنوب غربي</th>\n",
              "      <th>frontage_شرق</th>\n",
              "      <th>frontage_شمال</th>\n",
              "      <th>frontage_شمال شرقي</th>\n",
              "      <th>frontage_شمال غربي</th>\n",
              "      <th>frontage_غرب</th>\n",
              "      <th>purpose_تجاري</th>\n",
              "      <th>purpose_سكني</th>\n",
              "      <th>purpose_سكني أو تجاري</th>\n",
              "      <th>size</th>\n",
              "      <th>streetwidth</th>\n",
              "      <th>pricepermeter</th>\n",
              "    </tr>\n",
              "  </thead>\n",
              "  <tbody>\n",
              "    <tr>\n",
              "      <th>0</th>\n",
              "      <td>1.0</td>\n",
              "      <td>0.0</td>\n",
              "      <td>0.0</td>\n",
              "      <td>0.0</td>\n",
              "      <td>0.0</td>\n",
              "      <td>0.0</td>\n",
              "      <td>0.0</td>\n",
              "      <td>1.0</td>\n",
              "      <td>0.0</td>\n",
              "      <td>0.0</td>\n",
              "      <td>0.0</td>\n",
              "      <td>0.0</td>\n",
              "      <td>0.0</td>\n",
              "      <td>0.0</td>\n",
              "      <td>0.0</td>\n",
              "      <td>0.0</td>\n",
              "      <td>0.0</td>\n",
              "      <td>0.0</td>\n",
              "      <td>0.0</td>\n",
              "      <td>0.0</td>\n",
              "      <td>0.0</td>\n",
              "      <td>0.0</td>\n",
              "      <td>0.0</td>\n",
              "      <td>0.0</td>\n",
              "      <td>0.0</td>\n",
              "      <td>0.0</td>\n",
              "      <td>0.0</td>\n",
              "      <td>0.0</td>\n",
              "      <td>0.0</td>\n",
              "      <td>0.0</td>\n",
              "      <td>0.0</td>\n",
              "      <td>0.0</td>\n",
              "      <td>0.0</td>\n",
              "      <td>0.0</td>\n",
              "      <td>0.0</td>\n",
              "      <td>0.0</td>\n",
              "      <td>0.0</td>\n",
              "      <td>0.0</td>\n",
              "      <td>0.0</td>\n",
              "      <td>0.0</td>\n",
              "      <td>...</td>\n",
              "      <td>0.0</td>\n",
              "      <td>0.0</td>\n",
              "      <td>0.0</td>\n",
              "      <td>0.0</td>\n",
              "      <td>0.0</td>\n",
              "      <td>0.0</td>\n",
              "      <td>0.0</td>\n",
              "      <td>0.0</td>\n",
              "      <td>0.0</td>\n",
              "      <td>0.0</td>\n",
              "      <td>0.0</td>\n",
              "      <td>1.0</td>\n",
              "      <td>0.0</td>\n",
              "      <td>0.0</td>\n",
              "      <td>0.0</td>\n",
              "      <td>0.0</td>\n",
              "      <td>0.0</td>\n",
              "      <td>0.0</td>\n",
              "      <td>0.0</td>\n",
              "      <td>0.0</td>\n",
              "      <td>0.0</td>\n",
              "      <td>0.0</td>\n",
              "      <td>0.0</td>\n",
              "      <td>0.0</td>\n",
              "      <td>1.0</td>\n",
              "      <td>0.0</td>\n",
              "      <td>0.0</td>\n",
              "      <td>0.0</td>\n",
              "      <td>0.0</td>\n",
              "      <td>0.0</td>\n",
              "      <td>0.0</td>\n",
              "      <td>0.0</td>\n",
              "      <td>0.0</td>\n",
              "      <td>0.0</td>\n",
              "      <td>1.0</td>\n",
              "      <td>0.0</td>\n",
              "      <td>0.0</td>\n",
              "      <td>2220</td>\n",
              "      <td>20</td>\n",
              "      <td>3550</td>\n",
              "    </tr>\n",
              "  </tbody>\n",
              "</table>\n",
              "<p>1 rows × 179 columns</p>\n",
              "</div>"
            ],
            "text/plain": [
              "   mainlocation_الرياض  mainlocation_جدة  ...  streetwidth  pricepermeter\n",
              "0                  1.0               0.0  ...           20           3550\n",
              "\n",
              "[1 rows x 179 columns]"
            ]
          },
          "metadata": {
            "tags": []
          },
          "execution_count": 13
        }
      ]
    },
    {
      "cell_type": "code",
      "metadata": {
        "colab": {
          "base_uri": "https://localhost:8080/"
        },
        "id": "GDWb0Dap6lIL",
        "outputId": "b152bbec-ed14-4dd2-cfed-d9f78e1e5d36"
      },
      "source": [
        "X = df_onehot.drop([\"pricepermeter\"], axis=1)\r\n",
        "y = df_onehot[\"pricepermeter\"]\r\n",
        "\r\n",
        "print(X.shape)\r\n",
        "print(y.shape)"
      ],
      "execution_count": 14,
      "outputs": [
        {
          "output_type": "stream",
          "text": [
            "(5852, 178)\n",
            "(5852,)\n"
          ],
          "name": "stdout"
        }
      ]
    },
    {
      "cell_type": "markdown",
      "metadata": {
        "id": "m9V2ogRpccXN"
      },
      "source": [
        "# Splitting the data"
      ]
    },
    {
      "cell_type": "code",
      "metadata": {
        "colab": {
          "base_uri": "https://localhost:8080/"
        },
        "id": "cA4wRXWx6rBk",
        "outputId": "8e78d62c-05e7-41f9-e73a-ec3a4f1debdb"
      },
      "source": [
        "# Import train_test_split\r\n",
        "from sklearn.model_selection import train_test_split\r\n",
        "\r\n",
        "# Split the data into training and testing sets\r\n",
        "X_train, X_test, y_train, y_test = train_test_split(X,y,test_size = 0.2, \r\n",
        "                                                    random_state = 5)\r\n",
        "print(\"Training set has {} samples.\".format(X_train.shape[0]))\r\n",
        "print(\"Testing set has {} samples.\".format(X_test.shape[0]))"
      ],
      "execution_count": 15,
      "outputs": [
        {
          "output_type": "stream",
          "text": [
            "Training set has 4681 samples.\n",
            "Testing set has 1171 samples.\n"
          ],
          "name": "stdout"
        }
      ]
    },
    {
      "cell_type": "markdown",
      "metadata": {
        "id": "wu26ZN5fcllw"
      },
      "source": [
        "## Function to predict the new untrained data"
      ]
    },
    {
      "cell_type": "code",
      "metadata": {
        "id": "1vz6AGhWGRxU"
      },
      "source": [
        "def predict(main,sub,neig,front,purpose,size,street,model):\r\n",
        "  er = onehotEncoder.transform([[main,sub,neig,front,purpose]]).toarray()\r\n",
        "  return model.predict(np.concatenate((er,[[size,street]]), axis=1))"
      ],
      "execution_count": 21,
      "outputs": []
    },
    {
      "cell_type": "code",
      "metadata": {
        "id": "d2BvgnRp7W5w"
      },
      "source": [
        "from sklearn.metrics import r2_score\r\n",
        "from sklearn.metrics import mean_absolute_error\r\n",
        "from sklearn.metrics import mean_squared_error\r\n",
        "import tensorflow.compat.v2.feature_column as fc\r\n",
        "import tensorflow as tf"
      ],
      "execution_count": 22,
      "outputs": []
    },
    {
      "cell_type": "markdown",
      "metadata": {
        "id": "t2v03ZgDdOOg"
      },
      "source": [
        "# Building Neural Network, and trining"
      ]
    },
    {
      "cell_type": "code",
      "metadata": {
        "id": "QFZjDa1KIpKZ"
      },
      "source": [
        "model = tf.keras.Sequential([\r\n",
        "       tf.keras.Input(shape=(178,)),\r\n",
        "        tf.keras.layers.Dense(256, activation = 'relu'),\r\n",
        "        tf.keras.layers.Dense(128, activation = 'relu'),\r\n",
        "        tf.keras.layers.Dense(1)\r\n",
        "])\r\n",
        "\r\n",
        "\r\n",
        "model.compile(loss=\"mean_absolute_error\" , optimizer=\"adam\")\r\n",
        "\r\n",
        "batch_size = 64\r\n",
        "epochs = 600\r\n",
        "\r\n",
        "his = model.fit(\r\n",
        "    X,\r\n",
        "    y,\r\n",
        "    batch_size=batch_size,\r\n",
        "    epochs=epochs,\r\n",
        ");"
      ],
      "execution_count": null,
      "outputs": []
    },
    {
      "cell_type": "markdown",
      "metadata": {
        "id": "yxSg4HNEdXJj"
      },
      "source": [
        "# Evaluating the model"
      ]
    },
    {
      "cell_type": "code",
      "metadata": {
        "colab": {
          "base_uri": "https://localhost:8080/"
        },
        "id": "z3A43aANKtdf",
        "outputId": "ad4887b9-0aed-453f-b679-fef0c9295148"
      },
      "source": [
        "model.evaluate(X_test, y_test)"
      ],
      "execution_count": 19,
      "outputs": [
        {
          "output_type": "stream",
          "text": [
            "37/37 [==============================] - 0s 1ms/step - loss: 473.5012\n"
          ],
          "name": "stdout"
        },
        {
          "output_type": "execute_result",
          "data": {
            "text/plain": [
              "473.50115966796875"
            ]
          },
          "metadata": {
            "tags": []
          },
          "execution_count": 19
        }
      ]
    },
    {
      "cell_type": "code",
      "metadata": {
        "colab": {
          "base_uri": "https://localhost:8080/"
        },
        "id": "C6159ZEfnMkx",
        "outputId": "bf0db9e3-51e7-4291-9eee-e17f2336f91c"
      },
      "source": [
        "prediction_train = model.predict(X_train)\r\n",
        "prediction_test = model.predict(X_test)\r\n",
        "print(\"Mean Absolute Error:\" , 'train: ', mean_absolute_error(y_train,prediction_train),\r\n",
        "          '| test: ', mean_absolute_error(y_test,prediction_test))\r\n",
        "print(\"Root Mean Square Error:\" , 'train: ',np.sqrt(mean_squared_error(y_train ,prediction_train)),\r\n",
        "      '| test: ',np.sqrt(mean_squared_error(y_test,prediction_test)))\r\n",
        "print(\"R2:\" , 'train: ', r2_score(y_train,prediction_train),'| test: ', r2_score(y_test,prediction_test))"
      ],
      "execution_count": 23,
      "outputs": [
        {
          "output_type": "stream",
          "text": [
            "Mean Absolute Error: train:  626.2271945736801 | test:  473.5011431114171\n",
            "Root Mean Square Error: train:  7722.515326856429 | test:  962.4643781679956\n",
            "R2: train:  0.017999271122793092 | test:  0.6476962880285435\n"
          ],
          "name": "stdout"
        }
      ]
    },
    {
      "cell_type": "code",
      "metadata": {
        "colab": {
          "base_uri": "https://localhost:8080/"
        },
        "id": "kWtWBXJQRZxy",
        "outputId": "1616cebf-26e6-4e09-c6df-a60f33aef3cf"
      },
      "source": [
        "# main,\r\n",
        "# sub,\r\n",
        "# neig,\r\n",
        "# front,\r\n",
        "# purpose,\r\n",
        "# size,\r\n",
        "# street\r\n",
        "predict(\r\n",
        "    'الرياض',\r\n",
        "    'شمال الرياض',\r\n",
        "    'حي الملقا',\r\n",
        "    '3 شوارع',\r\n",
        "    'سكني',\r\n",
        "    3816 ,\r\n",
        "    25  ,\r\n",
        "    model\r\n",
        ")"
      ],
      "execution_count": 24,
      "outputs": [
        {
          "output_type": "execute_result",
          "data": {
            "text/plain": [
              "array([[3992.248]], dtype=float32)"
            ]
          },
          "metadata": {
            "tags": []
          },
          "execution_count": 24
        }
      ]
    },
    {
      "cell_type": "markdown",
      "metadata": {
        "id": "G3sr8adRj03_"
      },
      "source": [
        "# Function to predict on the new dataset"
      ]
    },
    {
      "cell_type": "code",
      "metadata": {
        "id": "Kfob86r9zuWu"
      },
      "source": [
        "def predictOnNewDataSet(df,model):\r\n",
        "  er = onehotEncoder.transform(df[nominal_columns]).toarray()\r\n",
        "  X = np.concatenate((er,df[numeric_columns[:2]]), axis=1)\r\n",
        "  X = np.asarray(X).astype('float32')\r\n",
        "  y = df[numeric_columns[2]]\r\n",
        "  pred = model.predict(X)\r\n",
        "  diff = np.array(pred[0] - y)\r\n",
        "  print(\"Mean Absolute Error:\" , mean_absolute_error(y,pred))\r\n",
        "  print(\"Root Mean Square Error:\" ,np.sqrt(mean_squared_error(y ,pred)))\r\n",
        "  print(\"R2:\" , r2_score(y,pred))\r\n",
        "  return diff"
      ],
      "execution_count": 118,
      "outputs": []
    },
    {
      "cell_type": "markdown",
      "metadata": {
        "id": "hCP2Ep4Fj5Jx"
      },
      "source": [
        "# Loading the new dataset"
      ]
    },
    {
      "cell_type": "code",
      "metadata": {
        "id": "QolW1seef16T"
      },
      "source": [
        "df_n = pd.read_csv('land_north_riyadh.csv')"
      ],
      "execution_count": 119,
      "outputs": []
    },
    {
      "cell_type": "code",
      "metadata": {
        "colab": {
          "base_uri": "https://localhost:8080/"
        },
        "id": "XKkDlC8ilGxQ",
        "outputId": "06a4d0df-d81c-435b-fb36-6aa0ac1904ec"
      },
      "source": [
        "df_n = pd.concat([df_n,df])\r\n",
        "df_n.drop_duplicates(keep='first',ignore_index=True)\r\n",
        "df_n.shape"
      ],
      "execution_count": 125,
      "outputs": [
        {
          "output_type": "execute_result",
          "data": {
            "text/plain": [
              "(18309, 8)"
            ]
          },
          "metadata": {
            "tags": []
          },
          "execution_count": 125
        }
      ]
    },
    {
      "cell_type": "markdown",
      "metadata": {
        "id": "OWYDVZZhj76y"
      },
      "source": [
        "# Cleaning Data"
      ]
    },
    {
      "cell_type": "code",
      "metadata": {
        "colab": {
          "base_uri": "https://localhost:8080/"
        },
        "id": "7vVosTqigD-9",
        "outputId": "26bd151b-caec-4667-def7-9c2abed91b8b"
      },
      "source": [
        "df_n = df_n.query(\"streetwidth != 'غير محدد'\")\r\n",
        "df_n = df_n.query(\"purpose != 'غير محدد'\")\r\n",
        "df_n['streetwidth'] = df_n['streetwidth'].astype('int')\r\n",
        "df_n.shape"
      ],
      "execution_count": 126,
      "outputs": [
        {
          "output_type": "execute_result",
          "data": {
            "text/plain": [
              "(17189, 8)"
            ]
          },
          "metadata": {
            "tags": []
          },
          "execution_count": 126
        }
      ]
    },
    {
      "cell_type": "code",
      "metadata": {
        "id": "W5SRkDd2hMbm"
      },
      "source": [
        "df_n = df_n.query('neighborhood != \"حي مطار الملك خالد الدولي\"')\r\n",
        "df_n = df_n.query('neighborhood != \"حي جامعة الملك سعود\"')"
      ],
      "execution_count": 127,
      "outputs": []
    },
    {
      "cell_type": "code",
      "metadata": {
        "colab": {
          "base_uri": "https://localhost:8080/"
        },
        "id": "FZb7FXQhgjYk",
        "outputId": "a6bde3e8-7851-4f9d-9d13-bb313d319d71"
      },
      "source": [
        "diff = predictOnNewDataSet(df_n,model)"
      ],
      "execution_count": 128,
      "outputs": [
        {
          "output_type": "stream",
          "text": [
            "Mean Absolute Error: 1130.4205849940909\n",
            "Root Mean Square Error: 35506.582848121936\n",
            "R2: -0.0004545386451817457\n"
          ],
          "name": "stdout"
        }
      ]
    },
    {
      "cell_type": "code",
      "metadata": {
        "colab": {
          "base_uri": "https://localhost:8080/"
        },
        "id": "j6K8msIbgpX7",
        "outputId": "89cccfbf-65f2-43ac-c19f-593eb918066e"
      },
      "source": [
        "diff.max() # means that the model predicted the price per meter more with 3553 than the real price per meter"
      ],
      "execution_count": 129,
      "outputs": [
        {
          "output_type": "execute_result",
          "data": {
            "text/plain": [
              "3553.5823"
            ]
          },
          "metadata": {
            "tags": []
          },
          "execution_count": 129
        }
      ]
    },
    {
      "cell_type": "code",
      "metadata": {
        "colab": {
          "base_uri": "https://localhost:8080/"
        },
        "id": "eozlN3szg0D9",
        "outputId": "08ece2c6-e193-4ebf-9da7-0be95b07ccd2"
      },
      "source": [
        "diff.min() # means that the model predicted the price per meter less with 2996445 than the real price per meter"
      ],
      "execution_count": 130,
      "outputs": [
        {
          "output_type": "execute_result",
          "data": {
            "text/plain": [
              "-2996445.5"
            ]
          },
          "metadata": {
            "tags": []
          },
          "execution_count": 130
        }
      ]
    }
  ]
}